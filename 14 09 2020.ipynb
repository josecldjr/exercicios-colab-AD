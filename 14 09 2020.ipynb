{
 "metadata": {
  "language_info": {
   "codemirror_mode": {
    "name": "ipython",
    "version": 3
   },
   "file_extension": ".py",
   "mimetype": "text/x-python",
   "name": "python",
   "nbconvert_exporter": "python",
   "pygments_lexer": "ipython3",
   "version": "3.8.5-final"
  },
  "orig_nbformat": 2,
  "kernelspec": {
   "name": "python_defaultSpec_1600126051161",
   "display_name": "Python 3.8.5 32-bit"
  }
 },
 "nbformat": 4,
 "nbformat_minor": 2,
 "cells": [
  {
   "cell_type": "code",
   "execution_count": 51,
   "metadata": {},
   "outputs": [],
   "source": [
    "# Importar biblioteca pyodbc:\n",
    "import pyodbc\n",
    "\n",
    "# Classe para conexão com o banco de dados:\n",
    "class ConexaoBD ():\n",
    " def conectar (self):\n",
    "    return pyodbc.connect (driver = '{SQL Server}', server = '.\\SQLEXPRESS', database =\n",
    "'empresa', trusted_connection = 'yes')\n",
    "# Instanciar um objeto da classe para conexão com o banco de dados:\n",
    "bd = ConexaoBD ()\n",
    "# Pegar uma conexão com o banco de dados:\n",
    "\n",
    "conexao = bd.conectar ()\n"
   ]
  },
  {
   "cell_type": "code",
   "execution_count": 52,
   "metadata": {
    "tags": []
   },
   "outputs": [
    {
     "output_type": "stream",
     "name": "stdout",
     "text": "<pyodbc.Connection object at 0x07BC62F0>\n"
    }
   ],
   "source": [
    "print(conexao)\n",
    "\n",
    "# Classe Categoria:\n",
    "class Categoria:\n",
    "    def __init__ (self, conexao):\n",
    "        self.conexao = conexao\n",
    "    def inserir (self):\n",
    "        dml = ''' insert into Categoria (nome, descricao) values\n",
    "        ('Telefonia', 'Aparelho telefônico'),\n",
    "        ('Informática', 'Computador portátil'),\n",
    "        ('Roupa', 'Vestuário'),\n",
    "        ('Calçado', 'Vestuário');\n",
    "        '''\n",
    "        with self.conexao:\n",
    "            cursor = self.conexao.cursor ()\n",
    "            cursor.execute (dml)\n",
    "            \n",
    "# Instanciar objeto da classe Categoria\n",
    "categoria = Categoria (conexao)\n",
    "# Inserir um registro no banco de dados:\n",
    "categoria.inserir ()\n",
    "\n"
   ]
  },
  {
   "cell_type": "code",
   "execution_count": 55,
   "metadata": {},
   "outputs": [],
   "source": [
    "# Classe Vendedor:\n",
    "class Vendedor:\n",
    "    def __init__ (self, conexao):\n",
    "        self.conexao = conexao\n",
    "    def inserir (self):\n",
    "        dml = ''' insert into Vendedor (cpf, nome, email, telefone, endereco) values\n",
    "        ('111.111.111-11', 'Ana', 'ana@ana.com.br', '(11) 1 1111-\n",
    "        1111', 'Rua n.1, n. 1, Bairro 1, Cidade 1, MG'),\n",
    "        ('222.222.222-22', 'Bruno', 'bruno@bruno.com.br', '(22) 2 2222-\n",
    "        2222', 'Rua n.2, n. 2, Bairro 2, Cidade 2, MG'),\n",
    "        ('333.333.333-33', 'Carla', 'carla@carla.com.br', '(33) 3 3333-\n",
    "        3333', 'Rua n.3, n. 3, Bairro 3, Cidade 3, MG'),\n",
    "        ('444.444.444-44', 'Diego', 'diego@diego.com.br', '(44) 4 4444-\n",
    "        4444', 'Rua n.4, n. 4, Bairro 4, Cidade 4, MG'),\n",
    "        ('555.555.555-55', 'Elis', 'elis@elis.com.br', '(55) 5 5555-\n",
    "        5555', 'Rua n.5, n. 5, Bairro 5, Cidade 5, MG'),\n",
    "        ('666.666.666-66', 'Fábio', 'fabio@fabio.com.br', '(66) 6 6666-\n",
    "        6666', 'Rua n.6, n. 6, Bairro 6, Cidade 6, MG'),\n",
    "        ('777.777.777-77', 'Gisele', 'gisele@gisele.com.br', '(77) 7 7777-\n",
    "        7777', 'Rua n.7, n. 7, Bairro 7, Cidade 7, MG'),\n",
    "        ('888.888.888-88', 'Heitor', 'heitor@heitor.com.br', '(88) 8 8888-\n",
    "        8888', 'Rua n.8, n. 8, Bairro 8, Cidade 8, MG'),\n",
    "        ('999.999.999-99', 'Iris', 'iris@iris.com.br', '(99) 9 9999-\n",
    "        9999', 'Rua n.9, n. 9, Bairro 9, Cidade 9, MG');\n",
    "        '''\n",
    "        with self.conexao:\n",
    "            cursor = self.conexao.cursor ()\n",
    "            cursor.execute (dml)\n",
    "\n",
    "# Instanciar objeto da classe Vendedor:\n",
    "vendedor = Vendedor (conexao)\n",
    "# Inserir um registro no banco de dados:\n",
    "vendedor.inserir ()\n",
    "\n"
   ]
  },
  {
   "cell_type": "code",
   "execution_count": 56,
   "metadata": {},
   "outputs": [],
   "source": [
    "# Classe Produto:\n",
    "class Produto:\n",
    "    def __init__ (self, conexao):\n",
    "        self.conexao = conexao\n",
    "    def inserir (self):\n",
    "        dml = ''' insert into Produto (nome, descricao, marca, id_categoria) values\n",
    "        ('Celular', 'Celular 1', 'Apple', 1),\n",
    "        ('Celular', 'Celular 2', 'Samsung', 1),\n",
    "        ('Celular', 'Celular 3', 'Xiaomi', 1),\n",
    "        ('Notebook', 'Notebook 1', 'Apple', 2),\n",
    "        ('Notebook', 'Notebook 2', 'Samsung', 2),\n",
    "        ('Notebook', 'Notebook 3', 'Xiaomi', 2),\n",
    "        ('Camisa', 'Camisa 1', 'Nike', 3),\n",
    "        ('Calça', 'Calça 1', 'Nike', 3),\n",
    "        ('Tênis', 'Tênis 1', 'Nike', 4),\n",
    "        ('Camisa', 'Camisa 2', 'Adidas', 3),\n",
    "        ('Calça', 'Calça 2', 'Adidas', 3),\n",
    "        ('Tênis', 'Tênis 2', 'Adidas', 4),\n",
    "        ('Camisa', 'Camisa 3', 'Zara', 3),\n",
    "        ('Calça', 'Calça 3', 'Zara', 3),\n",
    "        ('Tênis', 'Tênis 3', 'Zara', 4);\n",
    "        '''\n",
    "        with self.conexao:\n",
    "            cursor = self.conexao.cursor ()\n",
    "            cursor.execute (dml)\n",
    "\n",
    "# Instanciar objeto da classe Vendedor:\n",
    "produto = Produto (conexao)\n",
    "# Inserir um registro no banco de dados:\n",
    "produto.inserir ()\n"
   ]
  },
  {
   "cell_type": "code",
   "execution_count": 57,
   "metadata": {},
   "outputs": [],
   "source": [
    "# Classe VendedorProduto:\n",
    "class VendedorProduto:\n",
    "    def __init__ (self, conexao):\n",
    "        self.conexao = conexao\n",
    "    def inserir (self):\n",
    "        dml = ''' insert into VendedorProduto (cpf_vendedor, id_produto, quantidade, preco)\n",
    "        values\n",
    "        ('111.111.111-11', 1, 2, 4000),\n",
    "        ('111.111.111-11', 2, 3, 3000),\n",
    "        ('111.111.111-11', 3, 4, 1000),\n",
    "        ('111.111.111-11', 12, 2, 110),\n",
    "        ('222.222.222-22', 4, 3, 5000),\n",
    "        ('222.222.222-22', 5, 5, 4000),\n",
    "        ('222.222.222-22', 6, 6, 3000),\n",
    "        ('333.333.333-33', 7, 10, 50),\n",
    "        ('333.333.333-33', 14, 2, 88),\n",
    "        ('555.555.555-55', 7, 10, 45),\n",
    "        ('666.666.666-66', 9, 3, 120),\n",
    "        ('666.666.666-66', 14, 8, 78),\n",
    "        ('888.888.888-88', 10, 0, 40),\n",
    "        ('999.999.999-99', 11, 0, 87),\n",
    "        ('999.999.999-99', 1, 1, 5000);\n",
    "        '''\n",
    "        with self.conexao:\n",
    "            cursor = self.conexao.cursor ()\n",
    "            cursor.execute (dml)\n",
    "\n",
    "# Instanciar objeto da classe Vendedor:\n",
    "vendedor_produto = VendedorProduto (conexao)\n",
    "# Inserir um registro no banco de dados:\n",
    "vendedor_produto.inserir ()"
   ]
  },
  {
   "cell_type": "code",
   "execution_count": 61,
   "metadata": {
    "tags": []
   },
   "outputs": [
    {
     "output_type": "stream",
     "name": "stdout",
     "text": "('111.111.111-11', 'Ana', 'ana@ana.com.br')\n('222.222.222-22', 'Bruno', 'bruno@bruno.com.br')\n('333.333.333-33', 'Carla', 'carla@carla.com.br')\n('444.444.444-44', 'Diego', 'diego@diego.com.br')\n('555.555.555-55', 'Elis', 'elis@elis.com.br')\n('666.666.666-66', 'Fábio', 'fabio@fabio.com.br')\n('777.777.777-77', 'Gisele', 'gisele@gisele.com.br')\n('888.888.888-88', 'Heitor', 'heitor@heitor.com.br')\n('999.999.999-99', 'Iris', 'iris@iris.com.br')\n"
    }
   ],
   "source": [
    "# Classe Vendedor:\n",
    "class Vendedor:\n",
    "    def __init__ (self, conexao):\n",
    "        self.conexao = conexao\n",
    "\n",
    "    def buscar (self):\n",
    "        sql = ''' select v.cpf as CPF, v.nome as Vendedor, v.email as 'E-mail'\n",
    "        from Vendedor v\n",
    "        '''\n",
    "        with self.conexao:\n",
    "            cursor = self.conexao.cursor ()\n",
    "            cursor.execute (sql)\n",
    "            for linha in cursor:\n",
    "                print (linha)\n",
    "\n",
    "# Instanciar objeto da classe Vendedor:\n",
    "vendedor = Vendedor (conexao)\n",
    "# Ler os registros do banco de dados:\n",
    "vendedor.buscar ()\n"
   ]
  },
  {
   "cell_type": "code",
   "execution_count": 65,
   "metadata": {},
   "outputs": [],
   "source": [
    "# Importar a biblioteca Pandas:\n",
    "import pandas as pd\n"
   ]
  },
  {
   "cell_type": "code",
   "execution_count": 66,
   "metadata": {},
   "outputs": [],
   "source": [
    "# Classe Vendedor:\n",
    "class Vendedor:\n",
    "    def __init__ (self, conexao):\n",
    "        self.conexao = conexão\n",
    "\n",
    "    def buscarPandas (self):\n",
    "        sql = ''' select v.cpf as CPF, v.nome as Vendedor, v.email as 'E-mail'\n",
    "        from Vendedor v\n",
    "        '''\n",
    "        data_frame = pd.read_sql_query (sql, self.conexao)\n",
    "        print (data_frame)\n",
    "        print (type (data_frame))\n",
    "\n",
    "        # Instanciar objeto da classe Vendedor:\n",
    "        vendedor = Vendedor (conexao)\n",
    "        # Ler os registros do banco de dados:\n",
    "        vendedor.buscarPandas ()"
   ]
  },
  {
   "cell_type": "code",
   "execution_count": 67,
   "metadata": {
    "tags": []
   },
   "outputs": [
    {
     "output_type": "stream",
     "name": "stdout",
     "text": "CPF Vendedor   Produto    Marca    Categoria  Qtde   Preço\n0   111.111.111-11      Ana   Celular    Apple    Telefonia     2  4000.0\n1   111.111.111-11      Ana   Celular  Samsung    Telefonia     3  3000.0\n2   111.111.111-11      Ana   Celular   Xiaomi    Telefonia     4  1000.0\n3   111.111.111-11      Ana  Notebook    Apple  Informática     2   110.0\n4   222.222.222-22    Bruno  Notebook  Samsung  Informática     3  5000.0\n5   222.222.222-22    Bruno  Notebook   Xiaomi  Informática     5  4000.0\n6   222.222.222-22    Bruno    Camisa     Nike        Roupa     6  3000.0\n7   333.333.333-33    Carla     Calça     Nike        Roupa    10    50.0\n8   333.333.333-33    Carla     Tênis     Nike      Calçado     2    88.0\n9   555.555.555-55     Elis    Camisa   Adidas        Roupa    10    45.0\n10  666.666.666-66    Fábio     Calça   Adidas        Roupa     3   120.0\n11  666.666.666-66    Fábio     Tênis   Adidas      Calçado     8    78.0\n12  888.888.888-88   Heitor    Camisa     Zara        Roupa     0    40.0\n13  999.999.999-99     Iris     Calça     Zara        Roupa     0    87.0\n14  999.999.999-99     Iris     Tênis     Zara      Calçado     1  5000.0\n<class 'pandas.core.frame.DataFrame'>\n"
    }
   ],
   "source": [
    "# Classe Vendedor:\n",
    "class Vendedor:\n",
    "    def __init__ (self, conexao):\n",
    "        self.conexao = conexao\n",
    "    def pesquisarPandas (self):\n",
    "        sql = ''' select v.cpf as CPF, v.nome as Vendedor,\n",
    "        p.nome as Produto, p.marca as Marca,\n",
    "        c.nome as Categoria,\n",
    "        vp.quantidade as Qtde, vp.preco as Preço\n",
    "        from Vendedor v, VendedorProduto vp, Produto p, Categoria c\n",
    "        where v.cpf = vp.cpf_vendedor and\n",
    "        vp.id = p.id and\n",
    "        p.id_categoria = c.id;\n",
    "        '''\n",
    "        data_frame = pd.read_sql_query (sql, self.conexao)\n",
    "        print (data_frame)\n",
    "        print (type (data_frame))\n",
    "\n",
    "# Instanciar objeto da classe Vendedor:\n",
    "vendedor = Vendedor (conexao)\n",
    "# Ler os registros do banco de dados:\n",
    "vendedor.pesquisarPandas ()\n"
   ]
  },
  {
   "cell_type": "code",
   "execution_count": 75,
   "metadata": {
    "tags": []
   },
   "outputs": [
    {
     "output_type": "stream",
     "name": "stdout",
     "text": "CPF Vendedor\n0  111.111.111-11      Ana\n1  222.222.222-22    Bruno\n2  333.333.333-33    Carla\n3  444.444.444-44    Diego\n4  555.555.555-55     Elis\n5  666.666.666-66    Fábio\n6  777.777.777-77   Gisele\n7  888.888.888-88   Heitor\n8  999.999.999-99     Iris\n<class 'pandas.core.frame.DataFrame'>\n"
    }
   ],
   "source": [
    "# Classe Vendedor:\n",
    "class Vendedor:\n",
    "    def __init__ (self, conexao):\n",
    "        self.conexao = conexao\n",
    "    def buscar (self):\n",
    "        sql = ''' select v.cpf as CPF, v.nome as Vendedor\n",
    "            from Vendedor v \n",
    "            '''\n",
    "\n",
    "        data_frame = pd.read_sql_query (sql, self.conexao)\n",
    "        print (data_frame)\n",
    "        print (type (data_frame))\n",
    "\n",
    "# Instanciar objeto da classe Vendedor:\n",
    "vendedor = Vendedor(conexao)\n",
    "# Pesquisa:\n",
    "vendedor.buscar ()"
   ]
  },
  {
   "cell_type": "code",
   "execution_count": 76,
   "metadata": {
    "tags": []
   },
   "outputs": [
    {
     "output_type": "stream",
     "name": "stdout",
     "text": "Produto\n0     Calça\n1    Camisa\n2   Celular\n3  Notebook\n4     Tênis\n<class 'pandas.core.frame.DataFrame'>\n"
    }
   ],
   "source": [
    "# Classe Produto:\n",
    "class Produto:\n",
    "    def __init__ (self, conexao):\n",
    "        self.conexao = conexao\n",
    "    def buscar (self):\n",
    "        sql = ''' select distinct p.nome as Produto\n",
    "        from Produto p\n",
    "        '''\n",
    "        data_frame = pd.read_sql_query (sql, self.conexao)\n",
    "        print (data_frame)\n",
    "        print (type (data_frame))\n",
    "\n",
    "# Instanciar objeto da classe Vendedor:\n",
    "produto = Produto (conexao)\n",
    "# Inserir um registro no banco de dados:\n",
    "produto.buscar ()"
   ]
  },
  {
   "cell_type": "code",
   "execution_count": 77,
   "metadata": {
    "tags": []
   },
   "outputs": [
    {
     "output_type": "stream",
     "name": "stdout",
     "text": "CPF Vendedor\n0  111.111.111-11      Ana\n1  222.222.222-22    Bruno\n2  333.333.333-33    Carla\n3  555.555.555-55     Elis\n4  666.666.666-66    Fábio\n5  888.888.888-88   Heitor\n6  999.999.999-99     Iris\n<class 'pandas.core.frame.DataFrame'>\n"
    }
   ],
   "source": [
    "# Classe Vendedor:\n",
    "class Vendedor:\n",
    "    def __init__ (self, conexao):\n",
    "        self.conexao = conexao\n",
    "    def buscar (self):\n",
    "        sql = ''' select v.cpf as CPF, v.nome as Vendedor\n",
    "        from Vendedor v\n",
    "        where v.cpf in (select vp.cpf_vendedor\n",
    "        from VendedorProduto vp);\n",
    "        '''\n",
    "        data_frame = pd.read_sql_query (sql, self.conexao)\n",
    "        print (data_frame)\n",
    "        print (type (data_frame))\n",
    "\n",
    "# Instanciar objeto da classe Vendedor:\n",
    "vendedor = Vendedor (conexao)\n",
    "# Ler os registros do banco de dados:\n",
    "vendedor.buscar ()"
   ]
  },
  {
   "cell_type": "code",
   "execution_count": 78,
   "metadata": {
    "tags": []
   },
   "outputs": [
    {
     "output_type": "stream",
     "name": "stdout",
     "text": "CPF Vendedor\n0  111.111.111-11      Ana\n1  222.222.222-22    Bruno\n2  333.333.333-33    Carla\n3  555.555.555-55     Elis\n4  666.666.666-66    Fábio\n5  888.888.888-88   Heitor\n6  999.999.999-99     Iris\n<class 'pandas.core.frame.DataFrame'>\n"
    }
   ],
   "source": [
    "# Classe Vendedor:\n",
    "class Vendedor:\n",
    "    def __init__ (self, conexao):\n",
    "        self.conexao = conexao\n",
    "    def buscar (self):\n",
    "        sql = ''' select v.cpf as CPF, v.nome as Vendedor\n",
    "        from Vendedor v\n",
    "        where exists (select vp.cpf_vendedor\n",
    "        from VendedorProduto vp\n",
    "        where v.cpf = vp.cpf_vendedor);\n",
    "        '''\n",
    "        data_frame = pd.read_sql_query (sql, self.conexao)\n",
    "        print (data_frame)\n",
    "        print (type (data_frame))\n",
    "        # Instanciar objeto da classe Vendedor:\n",
    "vendedor = Vendedor (conexao)\n",
    "# Ler os registros do banco de dados:\n",
    "vendedor.buscar ()"
   ]
  },
  {
   "cell_type": "code",
   "execution_count": 79,
   "metadata": {
    "tags": []
   },
   "outputs": [
    {
     "output_type": "stream",
     "name": "stdout",
     "text": "CPF Vendedor\n0  444.444.444-44    Diego\n1  777.777.777-77   Gisele\n<class 'pandas.core.frame.DataFrame'>\n"
    }
   ],
   "source": [
    "# Classe Vendedor:\n",
    "class Vendedor:\n",
    "    def __init__ (self, conexao):\n",
    "        self.conexao = conexao\n",
    "    def buscar (self):\n",
    "        sql = ''' select v.cpf as CPF, v.nome as Vendedor\n",
    "        from Vendedor v\n",
    "        where v.cpf not in (select vp.cpf_vendedor\n",
    "        from VendedorProduto vp);\n",
    "        '''\n",
    "        data_frame = pd.read_sql_query (sql, self.conexao)\n",
    "        print (data_frame)\n",
    "        print (type (data_frame))\n",
    "\n",
    "# Instanciar objeto da classe Vendedor:\n",
    "vendedor = Vendedor (conexao)\n",
    "# Ler os registros do banco de dados:\n",
    "vendedor.buscar ()"
   ]
  },
  {
   "cell_type": "code",
   "execution_count": 80,
   "metadata": {
    "tags": []
   },
   "outputs": [
    {
     "output_type": "stream",
     "name": "stdout",
     "text": "CPF Vendedor\n0  444.444.444-44    Diego\n1  777.777.777-77   Gisele\n<class 'pandas.core.frame.DataFrame'>\n"
    }
   ],
   "source": [
    "# Classe Vendedor:\n",
    "class Vendedor:\n",
    "    def __init__ (self, conexao):\n",
    "        self.conexao = conexao\n",
    "    def buscar (self):\n",
    "        sql = ''' select v.cpf as CPF, v.nome as Vendedor\n",
    "        from Vendedor v\n",
    "        where not exists (select vp.cpf_vendedor\n",
    "        from VendedorProduto vp\n",
    "        where v.cpf = vp.cpf_vendedor);\n",
    "        '''\n",
    "        data_frame = pd.read_sql_query (sql, self.conexao)\n",
    "        print (data_frame)\n",
    "        print (type (data_frame))\n",
    "# Instanciar objeto da classe Vendedor:\n",
    "vendedor = Vendedor (conexao)\n",
    "# Ler os registros do banco de dados:\n",
    "vendedor.buscar ()"
   ]
  },
  {
   "cell_type": "code",
   "execution_count": 85,
   "metadata": {
    "tags": []
   },
   "outputs": [
    {
     "output_type": "stream",
     "name": "stdout",
     "text": "Preço Máximo\n0        5000.0\n<class 'pandas.core.frame.DataFrame'>\n"
    }
   ],
   "source": [
    "# Classe VendedorProduto:\n",
    "# Classe VendedorProduto:\n",
    "class VendedorProduto:\n",
    "    def __init__ (self, conexao):\n",
    "        self.conexao = conexao\n",
    "    def buscar (self):\n",
    "        sql = ''' select max (preco) as 'Preço Máximo'\n",
    "        from VendedorProduto\n",
    "    '''\n",
    "        data_frame = pd.read_sql_query (sql, self.conexao)\n",
    "        print (data_frame)\n",
    "        print (type (data_frame))\n",
    "\n",
    "# Instanciar objeto da classe Vendedor:\n",
    "vendedor_produto = VendedorProduto (conexao)\n",
    "# Pesquisar:\n",
    "vendedor_produto.buscar ()"
   ]
  },
  {
   "cell_type": "code",
   "execution_count": 88,
   "metadata": {
    "tags": []
   },
   "outputs": [
    {
     "output_type": "stream",
     "name": "stdout",
     "text": "Preço Máximo\n0          40.0\n<class 'pandas.core.frame.DataFrame'>\n"
    }
   ],
   "source": [
    "# Classe VendedorProduto:\n",
    "class VendedorProduto:\n",
    "    def __init__ (self, conexao):\n",
    "        self.conexao = conexao\n",
    "    def buscar (self):\n",
    "        sql = ''' select min (preco) as 'Preço Máximo'\n",
    "        from VendedorProduto\n",
    "        '''\n",
    "        data_frame = pd.read_sql_query (sql, self.conexao)\n",
    "        print (data_frame)\n",
    "        print (type (data_frame))\n",
    "\n",
    "# Instanciar objeto da classe Vendedor:\n",
    "vendedor_produto = VendedorProduto (conexao)\n",
    "# Pesquisar:\n",
    "vendedor_produto.buscar ()"
   ]
  },
  {
   "cell_type": "code",
   "execution_count": 91,
   "metadata": {
    "tags": []
   },
   "outputs": [
    {
     "output_type": "stream",
     "name": "stdout",
     "text": "Preço Máximo\n0   1707.866666\n<class 'pandas.core.frame.DataFrame'>\n"
    }
   ],
   "source": [
    "# Classe VendedorProduto:\n",
    "class VendedorProduto:\n",
    "    def __init__ (self, conexao):\n",
    "     self.conexao = conexao\n",
    "    def buscar (self):\n",
    "        sql = ''' select avg (preco) as 'Preço Máximo'\n",
    "        from VendedorProduto\n",
    "        '''\n",
    "        data_frame = pd.read_sql_query (sql, self.conexao)\n",
    "        print (data_frame)\n",
    "        print (type (data_frame))\n",
    "# Instanciar objeto da classe Vendedor:\n",
    "vendedor_produto = VendedorProduto (conexao)\n",
    "# Pesquisar:\n",
    "vendedor_produto.buscar ()"
   ]
  },
  {
   "cell_type": "code",
   "execution_count": 95,
   "metadata": {
    "tags": []
   },
   "outputs": [
    {
     "output_type": "stream",
     "name": "stdout",
     "text": "Preço Máximo\n0       25618.0\n<class 'pandas.core.frame.DataFrame'>\n"
    }
   ],
   "source": [
    "# Classe VendedorProduto:\n",
    "class VendedorProduto:\n",
    "    def __init__ (self, conexao):\n",
    "        self.conexao = conexao\n",
    "    def buscar (self):\n",
    "        sql = ''' select sum (preco) as 'Preço Máximo'\n",
    "        from VendedorProduto '''\n",
    "\n",
    "        data_frame = pd.read_sql_query (sql, self.conexao)\n",
    "        print (data_frame)\n",
    "        print (type (data_frame))\n",
    "# Instanciar objeto da classe Vendedor:\n",
    "vendedor_produto = VendedorProduto (conexao)\n",
    "# Pesquisar:\n",
    "vendedor_produto.buscar ()"
   ]
  },
  {
   "cell_type": "code",
   "execution_count": 98,
   "metadata": {
    "tags": []
   },
   "outputs": [
    {
     "output_type": "stream",
     "name": "stdout",
     "text": "Contagem\n0        15\n<class 'pandas.core.frame.DataFrame'>\n"
    }
   ],
   "source": [
    "# Classe VendedorProduto:\n",
    "class VendedorProduto:\n",
    "    def __init__ (self, conexao):\n",
    "        self.conexao = conexao\n",
    "    def buscar (self):\n",
    "        sql = ''' select count (id) as 'Contagem'\n",
    "        from VendedorProduto '''\n",
    "        data_frame = pd.read_sql_query (sql, self.conexao)\n",
    "        print (data_frame)\n",
    "        print (type (data_frame))\n",
    "\n",
    "# Instanciar objeto da classe Vendedor:\n",
    "vendedor_produto = VendedorProduto (conexao)\n",
    "# Pesquisar:\n",
    "vendedor_produto.buscar ()\n"
   ]
  },
  {
   "cell_type": "code",
   "execution_count": 104,
   "metadata": {
    "tags": []
   },
   "outputs": [
    {
     "output_type": "stream",
     "name": "stdout",
     "text": "Produto    Categoria  Qtde   Preço\n0      Calça        Roupa     0    87.0\n1      Calça        Roupa     2    88.0\n2      Calça        Roupa     8    78.0\n3     Camisa        Roupa     0    40.0\n4     Camisa        Roupa    10    45.0\n5     Camisa        Roupa    10    50.0\n6    Celular    Telefonia     1  5000.0\n7    Celular    Telefonia     2  4000.0\n8    Celular    Telefonia     3  3000.0\n9    Celular    Telefonia     4  1000.0\n10  Notebook  Informática     3  5000.0\n11  Notebook  Informática     5  4000.0\n12  Notebook  Informática     6  3000.0\n13     Tênis      Calçado     2   110.0\n14     Tênis      Calçado     3   120.0\n<class 'pandas.core.frame.DataFrame'>\n"
    }
   ],
   "source": [
    "# Classe Produto:\n",
    "class Produto:\n",
    "    def __init__ (self, conexao):\n",
    "        self.conexao = conexao\n",
    "    def buscar (self):\n",
    "        sql = ''' select p.nome as Produto, c.nome as Categoria, vp.quantidade as Qtde, vp.preco as Preço\n",
    "                from Produto p, Categoria c, VendedorProduto vp\n",
    "                where vp.id_produto = p.id and\n",
    "                p.id_categoria = c.id\n",
    "                group by p.nome, c.nome, vp.quantidade, vp.preco\n",
    "            '''\n",
    "        data_frame = pd.read_sql_query (sql, self.conexao)\n",
    "        print (data_frame)\n",
    "        print (type (data_frame))\n",
    "\n",
    "# Instanciar objeto da classe Vendedor:\n",
    "produto = Produto (conexao)\n",
    "# Pesquisar:\n",
    "produto.buscar ()"
   ]
  },
  {
   "cell_type": "code",
   "execution_count": 108,
   "metadata": {
    "tags": []
   },
   "outputs": [
    {
     "output_type": "stream",
     "name": "stdout",
     "text": "Produto    Categoria  Qtde   Preço\n0   Celular    Telefonia     1  5000.0\n1   Celular    Telefonia     2  4000.0\n2   Celular    Telefonia     3  3000.0\n3   Celular    Telefonia     4  1000.0\n4  Notebook  Informática     3  5000.0\n5  Notebook  Informática     5  4000.0\n6  Notebook  Informática     6  3000.0\n<class 'pandas.core.frame.DataFrame'>\n"
    }
   ],
   "source": [
    "# Classe Produto:\n",
    "class Produto:\n",
    "    def __init__ (self, conexao):\n",
    "        self.conexao = conexao\n",
    "    def buscar (self):\n",
    "        sql = ''' select p.nome as Produto, c.nome as Categoria, vp.quantidade as Qtde, vp.preco as Preço\n",
    "        from Produto p, Categoria c, VendedorProduto vp\n",
    "        where vp.id_produto = p.id and\n",
    "        p.id_categoria = c.id\n",
    "        group by p.nome, c.nome, vp.quantidade, vp.preco\n",
    "        having vp.preco > 500\n",
    "        '''\n",
    "        data_frame = pd.read_sql_query (sql, self.conexao)\n",
    "        print (data_frame)\n",
    "        print (type (data_frame))\n",
    "\n",
    "        # Instanciar objeto da classe Vendedor:\n",
    "produto = Produto (conexao)\n",
    "# Pesquisar:\n",
    "produto.buscar ()\n"
   ]
  },
  {
   "cell_type": "code",
   "execution_count": null,
   "metadata": {},
   "outputs": [],
   "source": [
    "# Classe Produto:\n",
    "class Produto:\n",
    "    def __init__ (self, conexao):\n",
    "     self.conexao = conexao\n",
    "    def buscar (self):\n",
    "        sql = ''' select p.nome as Produto, c.nome as Categoria, vp.quantidade as Qtde, vp.preco a\n",
    "        s Preço\n",
    "        from Produto p, Categoria c, VendedorProduto vp\n",
    "        where vp.id_produto = p.id and\n",
    "        p.id_categoria = c.id\n",
    "        group by p.nome, c.nome, vp.quantidade, vp.preco\n",
    "        having vp.preco > 500\n",
    "        order by c.nome asc, vp.preco desc\n",
    "        '''\n",
    "        data_frame = pd.read_sql_query (sql, self.conexao)\n",
    "        print (data_frame)\n",
    "        print (type (data_frame))\n",
    "        # Instanciar objeto da classe Vendedor:\n",
    "produto = Produto (conexao)\n",
    "# Pesquisar:\n",
    "produto.buscar ()"
   ]
  },
  {
   "cell_type": "code",
   "execution_count": 109,
   "metadata": {
    "tags": []
   },
   "outputs": [
    {
     "output_type": "stream",
     "name": "stdout",
     "text": "CPF Vendedor  Qtde   Preço   Produto    Categoria\n0   111.111.111-11      Ana     2  4000.0   Celular    Telefonia\n1   111.111.111-11      Ana     3  3000.0   Celular    Telefonia\n2   111.111.111-11      Ana     4  1000.0   Celular    Telefonia\n3   111.111.111-11      Ana     2   110.0     Tênis      Calçado\n4   222.222.222-22    Bruno     3  5000.0  Notebook  Informática\n5   222.222.222-22    Bruno     5  4000.0  Notebook  Informática\n6   222.222.222-22    Bruno     6  3000.0  Notebook  Informática\n7   333.333.333-33    Carla    10    50.0    Camisa        Roupa\n8   333.333.333-33    Carla     2    88.0     Calça        Roupa\n9   555.555.555-55     Elis    10    45.0    Camisa        Roupa\n10  666.666.666-66    Fábio     3   120.0     Tênis      Calçado\n11  666.666.666-66    Fábio     8    78.0     Calça        Roupa\n12  888.888.888-88   Heitor     0    40.0    Camisa        Roupa\n13  999.999.999-99     Iris     0    87.0     Calça        Roupa\n14  999.999.999-99     Iris     1  5000.0   Celular    Telefonia\n<class 'pandas.core.frame.DataFrame'>\n"
    }
   ],
   "source": [
    "# Classe Vendedor:\n",
    "class Vendedor:\n",
    "    def __init__ (self, conexao):\n",
    "     self.conexao = conexao\n",
    "    def buscar (self):\n",
    "        sql = ''' select v.cpf as CPF, v.nome as Vendedor, vp.quantidade as Qtde, vp.preco as Preço\n",
    "        , p.nome as Produto, c.nome as Categoria\n",
    "        from Vendedor v\n",
    "        inner join VendedorProduto vp on v.cpf = vp.cpf_vendedor\n",
    "        inner join Produto p on vp.id_produto = p.id\n",
    "        inner join Categoria c on p.id_categoria = c.id\n",
    "        order by v.cpf;\n",
    "        '''\n",
    "\n",
    "        data_frame = pd.read_sql_query (sql, self.conexao)\n",
    "        print (data_frame)\n",
    "        print (type (data_frame))\n",
    "        \n",
    "# Instanciar objeto da classe Vendedor:\n",
    "vendedor = Vendedor (conexao)\n",
    "# Pesquisa:\n",
    "vendedor.buscar ()\n"
   ]
  },
  {
   "cell_type": "code",
   "execution_count": 111,
   "metadata": {
    "tags": []
   },
   "outputs": [
    {
     "output_type": "stream",
     "name": "stdout",
     "text": "CPF Vendedor  Qtde   Preço   Produto    Categoria\n0   111.111.111-11      Ana   2.0  4000.0   Celular    Telefonia\n1   111.111.111-11      Ana   3.0  3000.0   Celular    Telefonia\n2   111.111.111-11      Ana   4.0  1000.0   Celular    Telefonia\n3   111.111.111-11      Ana   2.0   110.0     Tênis      Calçado\n4   222.222.222-22    Bruno   3.0  5000.0  Notebook  Informática\n5   222.222.222-22    Bruno   5.0  4000.0  Notebook  Informática\n6   222.222.222-22    Bruno   6.0  3000.0  Notebook  Informática\n7   333.333.333-33    Carla  10.0    50.0    Camisa        Roupa\n8   333.333.333-33    Carla   2.0    88.0     Calça        Roupa\n9   444.444.444-44    Diego   NaN     NaN      None         None\n10  555.555.555-55     Elis  10.0    45.0    Camisa        Roupa\n11  666.666.666-66    Fábio   3.0   120.0     Tênis      Calçado\n12  666.666.666-66    Fábio   8.0    78.0     Calça        Roupa\n13  777.777.777-77   Gisele   NaN     NaN      None         None\n14  888.888.888-88   Heitor   0.0    40.0    Camisa        Roupa\n15  999.999.999-99     Iris   0.0    87.0     Calça        Roupa\n16  999.999.999-99     Iris   1.0  5000.0   Celular    Telefonia\n<class 'pandas.core.frame.DataFrame'>\n"
    }
   ],
   "source": [
    "# Classe Vendedor:\n",
    "class Vendedor:\n",
    "    def __init__ (self, conexao):\n",
    "        self.conexao = conexao\n",
    "    def buscar (self):\n",
    "        sql = ''' select v.cpf as CPF, v.nome as Vendedor, vp.quantidade as Qtde, vp.preco as Preço\n",
    "        , p.nome as Produto, c.nome as Categoria\n",
    "        from Vendedor v\n",
    "        left join VendedorProduto vp on v.cpf = vp.cpf_vendedor\n",
    "        left join Produto p on vp.id_produto = p.id\n",
    "        left join Categoria c on p.id_categoria = c.id\n",
    "        order by v.cpf;\n",
    "        '''\n",
    "\n",
    "        data_frame = pd.read_sql_query (sql, self.conexao)\n",
    "        print (data_frame)\n",
    "        print (type (data_frame))\n",
    "    # Instanciar objeto da classe Vendedor:\n",
    "    vendedor = Vendedor (conexao)\n",
    "    # Pesquisa:\n",
    "    vendedor.buscar ()"
   ]
  },
  {
   "cell_type": "code",
   "execution_count": 112,
   "metadata": {
    "tags": []
   },
   "outputs": [
    {
     "output_type": "stream",
     "name": "stdout",
     "text": "CPF Vendedor  Qtde   Preço   Produto    Categoria\n0             None     None   NaN     NaN     Calça        Roupa\n1             None     None   NaN     NaN    Camisa        Roupa\n2             None     None   NaN     NaN     Tênis      Calçado\n3   111.111.111-11      Ana   2.0   110.0     Tênis      Calçado\n4   111.111.111-11      Ana   2.0  4000.0   Celular    Telefonia\n5   111.111.111-11      Ana   3.0  3000.0   Celular    Telefonia\n6   111.111.111-11      Ana   4.0  1000.0   Celular    Telefonia\n7   222.222.222-22    Bruno   3.0  5000.0  Notebook  Informática\n8   222.222.222-22    Bruno   5.0  4000.0  Notebook  Informática\n9   222.222.222-22    Bruno   6.0  3000.0  Notebook  Informática\n10  333.333.333-33    Carla  10.0    50.0    Camisa        Roupa\n11  333.333.333-33    Carla   2.0    88.0     Calça        Roupa\n12  555.555.555-55     Elis  10.0    45.0    Camisa        Roupa\n13  666.666.666-66    Fábio   8.0    78.0     Calça        Roupa\n14  666.666.666-66    Fábio   3.0   120.0     Tênis      Calçado\n15  888.888.888-88   Heitor   0.0    40.0    Camisa        Roupa\n16  999.999.999-99     Iris   0.0    87.0     Calça        Roupa\n17  999.999.999-99     Iris   1.0  5000.0   Celular    Telefonia\n<class 'pandas.core.frame.DataFrame'>\n"
    }
   ],
   "source": [
    "# Classe Vendedor:\n",
    "class Vendedor:\n",
    "    def __init__ (self, conexao):\n",
    "        self.conexao = conexao\n",
    "    def buscar (self):\n",
    "        sql = ''' select v.cpf as CPF, v.nome as Vendedor, vp.quantidade as Qtde, vp.preco as Preço\n",
    "        , p.nome as Produto, c.nome as Categoria\n",
    "        from Vendedor v\n",
    "        right join VendedorProduto vp on v.cpf = vp.cpf_vendedor\n",
    "        right join Produto p on vp.id_produto = p.id\n",
    "        right join Categoria c on p.id_categoria = c.id\n",
    "        order by v.cpf;\n",
    "        '''\n",
    "\n",
    "        data_frame = pd.read_sql_query (sql, self.conexao)\n",
    "        print (data_frame)\n",
    "        print (type (data_frame))\n",
    "        \n",
    "# Instanciar objeto da classe Vendedor:\n",
    "vendedor = Vendedor (conexao)\n",
    "# Pesquisa:\n",
    "vendedor.buscar ()"
   ]
  },
  {
   "cell_type": "code",
   "execution_count": 115,
   "metadata": {
    "tags": []
   },
   "outputs": [
    {
     "output_type": "stream",
     "name": "stdout",
     "text": "CPF Vendedor  Qtde   Preço   Produto    Categoria\n0             None     None   NaN     NaN     Tênis      Calçado\n1             None     None   NaN     NaN    Camisa        Roupa\n2             None     None   NaN     NaN     Calça        Roupa\n3   111.111.111-11      Ana   2.0  4000.0   Celular    Telefonia\n4   111.111.111-11      Ana   3.0  3000.0   Celular    Telefonia\n5   111.111.111-11      Ana   4.0  1000.0   Celular    Telefonia\n6   111.111.111-11      Ana   2.0   110.0     Tênis      Calçado\n7   222.222.222-22    Bruno   3.0  5000.0  Notebook  Informática\n8   222.222.222-22    Bruno   5.0  4000.0  Notebook  Informática\n9   222.222.222-22    Bruno   6.0  3000.0  Notebook  Informática\n10  333.333.333-33    Carla  10.0    50.0    Camisa        Roupa\n11  333.333.333-33    Carla   2.0    88.0     Calça        Roupa\n12  444.444.444-44    Diego   NaN     NaN      None         None\n13  555.555.555-55     Elis  10.0    45.0    Camisa        Roupa\n14  666.666.666-66    Fábio   3.0   120.0     Tênis      Calçado\n15  666.666.666-66    Fábio   8.0    78.0     Calça        Roupa\n16  777.777.777-77   Gisele   NaN     NaN      None         None\n17  888.888.888-88   Heitor   0.0    40.0    Camisa        Roupa\n18  999.999.999-99     Iris   0.0    87.0     Calça        Roupa\n19  999.999.999-99     Iris   1.0  5000.0   Celular    Telefonia\n<class 'pandas.core.frame.DataFrame'>\n"
    }
   ],
   "source": [
    "# Classe Vendedor:\n",
    "class Vendedor:\n",
    "    def __init__ (self, conexao):\n",
    "        self.conexao = conexao\n",
    "    def buscar (self):\n",
    "        sql = ''' select v.cpf as CPF, v.nome as Vendedor, vp.quantidade as Qtde, vp.preco as Preço\n",
    "        , p.nome as Produto, c.nome as Categoria\n",
    "        from Vendedor v\n",
    "        full join VendedorProduto vp on v.cpf = vp.cpf_vendedor\n",
    "        full join Produto p on vp.id_produto = p.id\n",
    "        full join Categoria c on p.id_categoria = c.id\n",
    "        order by v.cpf;\n",
    "        '''\n",
    "\n",
    "        data_frame = pd.read_sql_query (sql, self.conexao) \n",
    "        print (data_frame)\n",
    "        print (type (data_frame))\n",
    "\n",
    "# Instanciar objeto da classe Vendedor:\n",
    "vendedor = Vendedor (conexao)\n",
    "# Pesquisa:\n",
    "vendedor.buscar ()"
   ]
  },
  {
   "cell_type": "code",
   "execution_count": 116,
   "metadata": {
    "tags": []
   },
   "outputs": [
    {
     "output_type": "stream",
     "name": "stdout",
     "text": "Produto    Categoria\n0      Calça      Calçado\n1      Calça      Calçado\n2      Calça      Calçado\n3      Calça  Informática\n4      Calça  Informática\n5      Calça  Informática\n6      Calça        Roupa\n7      Calça        Roupa\n8      Calça        Roupa\n9      Calça    Telefonia\n10     Calça    Telefonia\n11     Calça    Telefonia\n12    Camisa      Calçado\n13    Camisa      Calçado\n14    Camisa      Calçado\n15    Camisa  Informática\n16    Camisa  Informática\n17    Camisa  Informática\n18    Camisa        Roupa\n19    Camisa        Roupa\n20    Camisa        Roupa\n21    Camisa    Telefonia\n22    Camisa    Telefonia\n23    Camisa    Telefonia\n24   Celular      Calçado\n25   Celular      Calçado\n26   Celular      Calçado\n27   Celular  Informática\n28   Celular  Informática\n29   Celular  Informática\n30   Celular        Roupa\n31   Celular        Roupa\n32   Celular        Roupa\n33   Celular    Telefonia\n34   Celular    Telefonia\n35   Celular    Telefonia\n36  Notebook      Calçado\n37  Notebook      Calçado\n38  Notebook      Calçado\n39  Notebook  Informática\n40  Notebook  Informática\n41  Notebook  Informática\n42  Notebook        Roupa\n43  Notebook        Roupa\n44  Notebook        Roupa\n45  Notebook    Telefonia\n46  Notebook    Telefonia\n47  Notebook    Telefonia\n48     Tênis      Calçado\n49     Tênis      Calçado\n50     Tênis      Calçado\n51     Tênis  Informática\n52     Tênis  Informática\n53     Tênis  Informática\n54     Tênis        Roupa\n55     Tênis        Roupa\n56     Tênis        Roupa\n57     Tênis    Telefonia\n58     Tênis    Telefonia\n59     Tênis    Telefonia\n<class 'pandas.core.frame.DataFrame'>\n"
    }
   ],
   "source": [
    "# Classe Produto:\n",
    "class Produto:\n",
    "    def __init__ (self, conexao):\n",
    "        self.conexao = conexao\n",
    "    def buscar (self):\n",
    "        sql = ''' select p.nome as Produto, c.nome as Categoria\n",
    "        from Produto p\n",
    "        cross join Categoria c\n",
    "        order by p.nome, c.nome;\n",
    "        '''\n",
    "        data_frame = pd.read_sql_query (sql, self.conexao)\n",
    "        print (data_frame)\n",
    "        print (type (data_frame))\n",
    "# Instanciar objeto da classe Vendedor:\n",
    "produto = Produto (conexao)\n",
    "# Pesquisar:\n",
    "produto.buscar ()\n"
   ]
  },
  {
   "cell_type": "code",
   "execution_count": null,
   "metadata": {},
   "outputs": [],
   "source": []
  }
 ]
}