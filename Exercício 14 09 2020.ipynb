{
 "metadata": {
  "language_info": {
   "codemirror_mode": {
    "name": "ipython",
    "version": 3
   },
   "file_extension": ".py",
   "mimetype": "text/x-python",
   "name": "python",
   "nbconvert_exporter": "python",
   "pygments_lexer": "ipython3",
   "version": "3.8.5-final"
  },
  "orig_nbformat": 2,
  "kernelspec": {
   "name": "python_defaultSpec_1600172083935",
   "display_name": "Python 3.8.5 32-bit"
  }
 },
 "nbformat": 4,
 "nbformat_minor": 2,
 "cells": [
  {
   "cell_type": "code",
   "execution_count": 6,
   "metadata": {},
   "outputs": [],
   "source": [
    "# Importar biblioteca pyodbc:\n",
    "import pyodbc\n",
    "import pandas as pd\n",
    "\n",
    "# Classe para conexão com o banco de dados:\n",
    "class ConexaoBD ():\n",
    " def conectar (self):\n",
    "    return pyodbc.connect (driver = '{SQL Server}', server = '.\\SQLEXPRESS', database = 'empresa', trusted_connection = 'yes')\n",
    "# Instanciar um objeto da classe para conexão com o banco de dados:\n",
    "bd = ConexaoBD ()\n",
    "# Pegar uma conexão com o banco de dados:\n",
    "\n",
    "conexao = bd.conectar ()"
   ]
  },
  {
   "cell_type": "code",
   "execution_count": 7,
   "metadata": {
    "tags": []
   },
   "outputs": [
    {
     "output_type": "stream",
     "name": "stdout",
     "text": "nome             cpf             email\n0  Elis  555.555.555-55  elis@elis.com.br\n1  Iris  999.999.999-99  iris@iris.com.br\n<class 'pandas.core.frame.DataFrame'>\n"
    }
   ],
   "source": [
    "# 1) - Quais vendedores possuem o nome terminado com a letra “s”? Resp.: Elis e Iris\n",
    "class Vendedor:\n",
    "    def __init__ (self, conexao):\n",
    "        self.conexao = conexao\n",
    "    def buscar (self):\n",
    "        sql = ''' select v.nome, v.cpf, v.email from Vendedor v where v.nome like \\'%s\\' '''\n",
    "\n",
    "        data_frame = pd.read_sql_query (sql, self.conexao) \n",
    "        print (data_frame)\n",
    "        print (type (data_frame))\n",
    "\n",
    "# Instanciar objeto da classe Vendedor:\n",
    "vendedor = Vendedor (conexao)\n",
    "# Pesquisa:\n",
    "vendedor.buscar ()\n"
   ]
  },
  {
   "cell_type": "code",
   "execution_count": 8,
   "metadata": {
    "tags": []
   },
   "outputs": [
    {
     "output_type": "stream",
     "name": "stdout",
     "text": "nome             cpf                 email\n0     Ana  111.111.111-11        ana@ana.com.br\n1   Carla  333.333.333-33    carla@carla.com.br\n2    Elis  555.555.555-55      elis@elis.com.br\n3   Fábio  666.666.666-66    fabio@fabio.com.br\n4  Heitor  888.888.888-88  heitor@heitor.com.br\n<class 'pandas.core.frame.DataFrame'>\n"
    }
   ],
   "source": [
    "# 2) Quais vendedores possuem produtos com valor entre $10 e $50 ou entre $100 e $500? Resp.: Heitor, Elis, Carla, Ana e Fábio. \n",
    "class Vendedor:\n",
    "    def __init__ (self, conexao):\n",
    "        self.conexao = conexao\n",
    "    def buscar (self):\n",
    "        sql = ''' select v.nome, v.cpf, v.email from Vendedor v \n",
    "                    left join VendedorProduto vp on vp.cpf_vendedor = v.cpf\n",
    "                    where vp.preco between 10 and 50\n",
    "                    or vp.preco between 100 and 500\n",
    "            '''\n",
    "\n",
    "        data_frame = pd.read_sql_query (sql, self.conexao) \n",
    "        print (data_frame)\n",
    "        print (type (data_frame))\n",
    "\n",
    "# Instanciar objeto da classe Vendedor:\n",
    "vendedor = Vendedor (conexao)\n",
    "# Pesquisa:\n",
    "vendedor.buscar ()\n"
   ]
  },
  {
   "cell_type": "code",
   "execution_count": 14,
   "metadata": {
    "tags": []
   },
   "outputs": [
    {
     "output_type": "stream",
     "name": "stdout",
     "text": "cpf_vendedor  total\n0  555.555.555-55  450.0\n<class 'pandas.core.frame.DataFrame'>\n"
    }
   ],
   "source": [
    "# 3) Se Ana vender todos os seu produtos, quanto ela receberá? Resp.: $21.220\n",
    "\n",
    "class Vendedor:\n",
    "    def __init__ (self, conexao):\n",
    "        self.conexao = conexao\n",
    "    def soma_produtos_por_cpf (self, cpf):\n",
    "        sql = '''SELECT cpf_vendedor, SUM(preco*quantidade)  as total\n",
    "                    FROM VendedorProduto \n",
    "                    where cpf_vendedor = '###cpf###'\n",
    "                    group by cpf_vendedor\n",
    "            '''.replace('###cpf###', cpf)\n",
    "\n",
    "        data_frame = pd.read_sql_query (sql, self.conexao) \n",
    "        print (data_frame)\n",
    "        print (type (data_frame))\n",
    "\n",
    "# Instanciar objeto da classe Vendedor:\n",
    "vendedor = Vendedor (conexao)\n",
    "# Pesquisa:\n",
    "vendedor.soma_produtos_por_cpf('111.111.111-11')\n"
   ]
  },
  {
   "cell_type": "code",
   "execution_count": 21,
   "metadata": {
    "tags": []
   },
   "outputs": [
    {
     "output_type": "stream",
     "name": "stdout",
     "text": "total\n0  81330.0\n<class 'pandas.core.frame.DataFrame'>\n"
    }
   ],
   "source": [
    "# 4) Se todos os vendedores venderem todos os seu produtos, qual será o total apurado nas vendas? Resp.: $81.330.\n",
    "class Vendedor:\n",
    "    def __init__ (self, conexao):\n",
    "        self.conexao = conexao\n",
    "    def soma_total_produtos (self):\n",
    "        sql = '''SELECT  SUM(preco*quantidade)  as total \n",
    "                    FROM VendedorProduto   \n",
    "            '''\n",
    "\n",
    "        data_frame = pd.read_sql_query (sql, self.conexao) \n",
    "        print (data_frame)\n",
    "        print (type (data_frame))\n",
    "\n",
    "# Instanciar objeto da classe Vendedor:\n",
    "vendedor = Vendedor (conexao)\n",
    "# Pesquisa:\n",
    "vendedor.soma_total_produtos()"
   ]
  },
  {
   "cell_type": "code",
   "execution_count": 25,
   "metadata": {
    "tags": []
   },
   "outputs": [
    {
     "output_type": "stream",
     "name": "stdout",
     "text": "cpf_vendedor    total\n0  222.222.222-22  53000.0\n1  111.111.111-11  21220.0\n2  999.999.999-99   5000.0\n3  666.666.666-66    984.0\n4  333.333.333-33    676.0\n5  555.555.555-55    450.0\n6  888.888.888-88      0.0\n<class 'pandas.core.frame.DataFrame'>\n"
    }
   ],
   "source": [
    "# 5) Se todos os vendedores venderem todos os seu produtos, quem receberá o maior valor? Resp.: Bruno, $53.000.\n",
    "\n",
    "class Vendedor:\n",
    "    def __init__ (self, conexao):\n",
    "        self.conexao = conexao\n",
    "    def total_valor_por_vendedor (self):\n",
    "        sql = '''SELECT cpf_vendedor, SUM(preco*quantidade)  as total\n",
    "                    FROM VendedorProduto  \n",
    "                    group by cpf_vendedor\n",
    "                    order by total desc\n",
    "            '''\n",
    "\n",
    "        data_frame = pd.read_sql_query (sql, self.conexao) \n",
    "        print (data_frame)\n",
    "        print (type (data_frame))\n",
    "\n",
    "# Instanciar objeto da classe Vendedor:\n",
    "vendedor = Vendedor (conexao)\n",
    "# Pesquisa:\n",
    "vendedor.total_valor_por_vendedor()"
   ]
  },
  {
   "cell_type": "code",
   "execution_count": 35,
   "metadata": {
    "tags": []
   },
   "outputs": [
    {
     "output_type": "stream",
     "name": "stdout",
     "text": "None\n          \n0  21220.0\n1  53000.0\n2    676.0\n3    450.0\n4    984.0\n5      0.0\n6   5000.0\n"
    }
   ],
   "source": [
    "# 6) Se todos os vendedores venderem todos os seu produtos, qual será o valor médio das vendas? Resp.: $11.618,57.\n",
    "\n",
    "\n",
    "class Vendedor:\n",
    "    def __init__ (self, conexao):\n",
    "        self.conexao = conexao\n",
    "    def total_valor_por_vendedor (self):\n",
    "        sql = '''SELECT  (SUM(preco*quantidade)) FROM VendedorProduto group by cpf_vendedor '''\n",
    "\n",
    "        data_frame = pd.read_sql_query (sql, self.conexao) \n",
    "        total = 0\n",
    "        \n",
    "        for value in data_frame.get(key='total')\n",
    "            total += value\n",
    "        \n",
    "\n",
    "        print (total)\n",
    "        \n",
    "# Instanciar objeto da classe Vendedor:\n",
    "vendedor = Vendedor (conexao)\n",
    "# Pesquisa:\n",
    "vendedor.total_valor_por_vendedor()"
   ]
  },
  {
   "cell_type": "code",
   "execution_count": null,
   "metadata": {},
   "outputs": [],
   "source": []
  }
 ]
}