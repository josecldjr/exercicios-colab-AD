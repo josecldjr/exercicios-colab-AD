{
 "metadata": {
  "language_info": {
   "codemirror_mode": {
    "name": "ipython",
    "version": 3
   },
   "file_extension": ".py",
   "mimetype": "text/x-python",
   "name": "python",
   "nbconvert_exporter": "python",
   "pygments_lexer": "ipython3",
   "version": "3.8.5-final"
  },
  "orig_nbformat": 2,
  "kernelspec": {
   "name": "python3",
   "display_name": "Python 3"
  }
 },
 "nbformat": 4,
 "nbformat_minor": 2,
 "cells": [
  {
   "cell_type": "code",
   "execution_count": 217,
   "metadata": {},
   "outputs": [],
   "source": [
    "import pyodbc\n",
    "import pandas as pd"
   ]
  },
  {
   "cell_type": "code",
   "execution_count": 218,
   "metadata": {},
   "outputs": [],
   "source": [
    "\n",
    "\n",
    "# Classe para conexão com o banco de dados:\n",
    "class ConexaoBD ():\n",
    " \n",
    "\n",
    " def conectar (self):\n",
    "    return pyodbc.connect (driver = '{SQL Server}', server = '.\\SQLEXPRESS', database = 'empresa', trusted_connection = 'yes')\n",
    "bd = ConexaoBD ()\n",
    "\n",
    "conexao = bd.conectar ()"
   ]
  },
  {
   "cell_type": "code",
   "execution_count": 224,
   "metadata": {},
   "outputs": [
    {
     "output_type": "error",
     "ename": "DatabaseError",
     "evalue": "Execution failed on sql 'CREATE TABLE Categoria (\n                            id int primary key identity (1, 1),\n                            nome varchar (32),\n                            descricao text\n                            );\n                            CREATE TABLE Vendedor (\n                            cpf varchar (14) primary key,\n                            nome varchar (128),\n                            email varchar (128),\n                            telefone varchar (20),\n                            endereco varchar (256)\n                            );\n                            CREATE TABLE Produto (\n                            id int primary key identity (1, 1),\n                            nome varchar (128),\n                            descricao text, marca varchar (32),\n                            id_categoria int foreign key references Categoria (id)\n                            );\n                            CREATE TABLE VendedorProduto (\n                            id int primary key identity (1, 1),\n                            cpf_vendedor varchar (14) foreign key references Vendedor (cpf),\n                            id_produto int foreign key references Produto (id),\n                            quantidade int,\n                            preco decimal\n                            );\n': ('42S01', \"[42S01] [Microsoft][ODBC SQL Server Driver][SQL Server]Já existe um objeto com nome 'Categoria' no banco de dados. (2714) (SQLExecDirectW)\")",
     "traceback": [
      "\u001b[1;31m---------------------------------------------------------------------------\u001b[0m",
      "\u001b[1;31mProgrammingError\u001b[0m                          Traceback (most recent call last)",
      "\u001b[1;32m~\\AppData\\Local\\Programs\\Python\\Python38-32\\lib\\site-packages\\pandas\\io\\sql.py\u001b[0m in \u001b[0;36mexecute\u001b[1;34m(self, *args, **kwargs)\u001b[0m\n\u001b[0;32m   1680\u001b[0m         \u001b[1;32mtry\u001b[0m\u001b[1;33m:\u001b[0m\u001b[1;33m\u001b[0m\u001b[1;33m\u001b[0m\u001b[0m\n\u001b[1;32m-> 1681\u001b[1;33m             \u001b[0mcur\u001b[0m\u001b[1;33m.\u001b[0m\u001b[0mexecute\u001b[0m\u001b[1;33m(\u001b[0m\u001b[1;33m*\u001b[0m\u001b[0margs\u001b[0m\u001b[1;33m,\u001b[0m \u001b[1;33m**\u001b[0m\u001b[0mkwargs\u001b[0m\u001b[1;33m)\u001b[0m\u001b[1;33m\u001b[0m\u001b[1;33m\u001b[0m\u001b[0m\n\u001b[0m\u001b[0;32m   1682\u001b[0m             \u001b[1;32mreturn\u001b[0m \u001b[0mcur\u001b[0m\u001b[1;33m\u001b[0m\u001b[1;33m\u001b[0m\u001b[0m\n",
      "\u001b[1;31mProgrammingError\u001b[0m: ('42S01', \"[42S01] [Microsoft][ODBC SQL Server Driver][SQL Server]Já existe um objeto com nome 'Categoria' no banco de dados. (2714) (SQLExecDirectW)\")",
      "\nThe above exception was the direct cause of the following exception:\n",
      "\u001b[1;31mDatabaseError\u001b[0m                             Traceback (most recent call last)",
      "\u001b[1;32m<ipython-input-224-99ff5f004e51>\u001b[0m in \u001b[0;36m<module>\u001b[1;34m\u001b[0m\n\u001b[0;32m     51\u001b[0m \u001b[1;31m#   print(\"An error ocurred\")\u001b[0m\u001b[1;33m\u001b[0m\u001b[1;33m\u001b[0m\u001b[1;33m\u001b[0m\u001b[0m\n\u001b[0;32m     52\u001b[0m \u001b[1;33m\u001b[0m\u001b[0m\n\u001b[1;32m---> 53\u001b[1;33m \u001b[0mcategoria\u001b[0m\u001b[1;33m.\u001b[0m\u001b[0mcriar\u001b[0m\u001b[1;33m(\u001b[0m\u001b[1;33m)\u001b[0m\u001b[1;33m\u001b[0m\u001b[1;33m\u001b[0m\u001b[0m\n\u001b[0m",
      "\u001b[1;32m<ipython-input-224-99ff5f004e51>\u001b[0m in \u001b[0;36mcriar\u001b[1;34m(self)\u001b[0m\n\u001b[0;32m     37\u001b[0m '''\n\u001b[0;32m     38\u001b[0m \u001b[1;33m\u001b[0m\u001b[0m\n\u001b[1;32m---> 39\u001b[1;33m         \u001b[0mdata_frame\u001b[0m \u001b[1;33m=\u001b[0m \u001b[0mpd\u001b[0m\u001b[1;33m.\u001b[0m\u001b[0mread_sql_query\u001b[0m \u001b[1;33m(\u001b[0m\u001b[0msql\u001b[0m\u001b[1;33m,\u001b[0m \u001b[0mself\u001b[0m\u001b[1;33m.\u001b[0m\u001b[0mconexao\u001b[0m\u001b[1;33m)\u001b[0m\u001b[1;33m\u001b[0m\u001b[1;33m\u001b[0m\u001b[0m\n\u001b[0m\u001b[0;32m     40\u001b[0m         \u001b[0mprint\u001b[0m \u001b[1;33m(\u001b[0m\u001b[0mdata_frame\u001b[0m\u001b[1;33m)\u001b[0m\u001b[1;33m\u001b[0m\u001b[1;33m\u001b[0m\u001b[0m\n\u001b[0;32m     41\u001b[0m         \u001b[0mprint\u001b[0m \u001b[1;33m(\u001b[0m\u001b[0mtype\u001b[0m \u001b[1;33m(\u001b[0m\u001b[0mdata_frame\u001b[0m\u001b[1;33m)\u001b[0m\u001b[1;33m)\u001b[0m\u001b[1;33m\u001b[0m\u001b[1;33m\u001b[0m\u001b[0m\n",
      "\u001b[1;32m~\\AppData\\Local\\Programs\\Python\\Python38-32\\lib\\site-packages\\pandas\\io\\sql.py\u001b[0m in \u001b[0;36mread_sql_query\u001b[1;34m(sql, con, index_col, coerce_float, params, parse_dates, chunksize)\u001b[0m\n\u001b[0;32m    375\u001b[0m     \"\"\"\n\u001b[0;32m    376\u001b[0m     \u001b[0mpandas_sql\u001b[0m \u001b[1;33m=\u001b[0m \u001b[0mpandasSQL_builder\u001b[0m\u001b[1;33m(\u001b[0m\u001b[0mcon\u001b[0m\u001b[1;33m)\u001b[0m\u001b[1;33m\u001b[0m\u001b[1;33m\u001b[0m\u001b[0m\n\u001b[1;32m--> 377\u001b[1;33m     return pandas_sql.read_query(\n\u001b[0m\u001b[0;32m    378\u001b[0m         \u001b[0msql\u001b[0m\u001b[1;33m,\u001b[0m\u001b[1;33m\u001b[0m\u001b[1;33m\u001b[0m\u001b[0m\n\u001b[0;32m    379\u001b[0m         \u001b[0mindex_col\u001b[0m\u001b[1;33m=\u001b[0m\u001b[0mindex_col\u001b[0m\u001b[1;33m,\u001b[0m\u001b[1;33m\u001b[0m\u001b[1;33m\u001b[0m\u001b[0m\n",
      "\u001b[1;32m~\\AppData\\Local\\Programs\\Python\\Python38-32\\lib\\site-packages\\pandas\\io\\sql.py\u001b[0m in \u001b[0;36mread_query\u001b[1;34m(self, sql, index_col, coerce_float, params, parse_dates, chunksize)\u001b[0m\n\u001b[0;32m   1725\u001b[0m \u001b[1;33m\u001b[0m\u001b[0m\n\u001b[0;32m   1726\u001b[0m         \u001b[0margs\u001b[0m \u001b[1;33m=\u001b[0m \u001b[0m_convert_params\u001b[0m\u001b[1;33m(\u001b[0m\u001b[0msql\u001b[0m\u001b[1;33m,\u001b[0m \u001b[0mparams\u001b[0m\u001b[1;33m)\u001b[0m\u001b[1;33m\u001b[0m\u001b[1;33m\u001b[0m\u001b[0m\n\u001b[1;32m-> 1727\u001b[1;33m         \u001b[0mcursor\u001b[0m \u001b[1;33m=\u001b[0m \u001b[0mself\u001b[0m\u001b[1;33m.\u001b[0m\u001b[0mexecute\u001b[0m\u001b[1;33m(\u001b[0m\u001b[1;33m*\u001b[0m\u001b[0margs\u001b[0m\u001b[1;33m)\u001b[0m\u001b[1;33m\u001b[0m\u001b[1;33m\u001b[0m\u001b[0m\n\u001b[0m\u001b[0;32m   1728\u001b[0m         \u001b[0mcolumns\u001b[0m \u001b[1;33m=\u001b[0m \u001b[1;33m[\u001b[0m\u001b[0mcol_desc\u001b[0m\u001b[1;33m[\u001b[0m\u001b[1;36m0\u001b[0m\u001b[1;33m]\u001b[0m \u001b[1;32mfor\u001b[0m \u001b[0mcol_desc\u001b[0m \u001b[1;32min\u001b[0m \u001b[0mcursor\u001b[0m\u001b[1;33m.\u001b[0m\u001b[0mdescription\u001b[0m\u001b[1;33m]\u001b[0m\u001b[1;33m\u001b[0m\u001b[1;33m\u001b[0m\u001b[0m\n\u001b[0;32m   1729\u001b[0m \u001b[1;33m\u001b[0m\u001b[0m\n",
      "\u001b[1;32m~\\AppData\\Local\\Programs\\Python\\Python38-32\\lib\\site-packages\\pandas\\io\\sql.py\u001b[0m in \u001b[0;36mexecute\u001b[1;34m(self, *args, **kwargs)\u001b[0m\n\u001b[0;32m   1691\u001b[0m \u001b[1;33m\u001b[0m\u001b[0m\n\u001b[0;32m   1692\u001b[0m             \u001b[0mex\u001b[0m \u001b[1;33m=\u001b[0m \u001b[0mDatabaseError\u001b[0m\u001b[1;33m(\u001b[0m\u001b[1;34mf\"Execution failed on sql '{args[0]}': {exc}\"\u001b[0m\u001b[1;33m)\u001b[0m\u001b[1;33m\u001b[0m\u001b[1;33m\u001b[0m\u001b[0m\n\u001b[1;32m-> 1693\u001b[1;33m             \u001b[1;32mraise\u001b[0m \u001b[0mex\u001b[0m \u001b[1;32mfrom\u001b[0m \u001b[0mexc\u001b[0m\u001b[1;33m\u001b[0m\u001b[1;33m\u001b[0m\u001b[0m\n\u001b[0m\u001b[0;32m   1694\u001b[0m \u001b[1;33m\u001b[0m\u001b[0m\n\u001b[0;32m   1695\u001b[0m     \u001b[1;33m@\u001b[0m\u001b[0mstaticmethod\u001b[0m\u001b[1;33m\u001b[0m\u001b[1;33m\u001b[0m\u001b[0m\n",
      "\u001b[1;31mDatabaseError\u001b[0m: Execution failed on sql 'CREATE TABLE Categoria (\n                            id int primary key identity (1, 1),\n                            nome varchar (32),\n                            descricao text\n                            );\n                            CREATE TABLE Vendedor (\n                            cpf varchar (14) primary key,\n                            nome varchar (128),\n                            email varchar (128),\n                            telefone varchar (20),\n                            endereco varchar (256)\n                            );\n                            CREATE TABLE Produto (\n                            id int primary key identity (1, 1),\n                            nome varchar (128),\n                            descricao text, marca varchar (32),\n                            id_categoria int foreign key references Categoria (id)\n                            );\n                            CREATE TABLE VendedorProduto (\n                            id int primary key identity (1, 1),\n                            cpf_vendedor varchar (14) foreign key references Vendedor (cpf),\n                            id_produto int foreign key references Produto (id),\n                            quantidade int,\n                            preco decimal\n                            );\n': ('42S01', \"[42S01] [Microsoft][ODBC SQL Server Driver][SQL Server]Já existe um objeto com nome 'Categoria' no banco de dados. (2714) (SQLExecDirectW)\")"
     ]
    }
   ],
   "source": [
    "class Tabelas:\n",
    "    def __init__ (self, conexao):\n",
    "        self.conexao = conexao\n",
    "    def buscar ():\n",
    "        sql = '''select * from Categoria '''\n",
    "\n",
    "        data_frame = pd.read_sql_query (sql, self.conexao) \n",
    "        print (data_frame)\n",
    "        print (type (data_frame))\n",
    "\n",
    "    def criar (self):\n",
    "        sql = '''CREATE TABLE Categoria (\n",
    "                            id int primary key identity (1, 1),\n",
    "                            nome varchar (32),\n",
    "                            descricao text\n",
    "                            );\n",
    "                            CREATE TABLE Vendedor (\n",
    "                            cpf varchar (14) primary key,\n",
    "                            nome varchar (128),\n",
    "                            email varchar (128),\n",
    "                            telefone varchar (20),\n",
    "                            endereco varchar (256)\n",
    "                            );\n",
    "                            CREATE TABLE Produto (\n",
    "                            id int primary key identity (1, 1),\n",
    "                            nome varchar (128),\n",
    "                            descricao text, marca varchar (32),\n",
    "                            id_categoria int foreign key references Categoria (id)\n",
    "                            );\n",
    "                            CREATE TABLE VendedorProduto (\n",
    "                            id int primary key identity (1, 1),\n",
    "                            cpf_vendedor varchar (14) foreign key references Vendedor (cpf),\n",
    "                            id_produto int foreign key references Produto (id),\n",
    "                            quantidade int,\n",
    "                            preco decimal\n",
    "                            );\n",
    "'''\n",
    "\n",
    "        data_frame = pd.read_sql_query (sql, self.conexao) \n",
    "        print (data_frame)\n",
    "        print (type (data_frame))\n",
    "\n",
    "# Instanciar objeto da classe Vendedor:\n",
    "categoria = Tabelas (conexao)\n",
    "# Pesquisa:\n",
    "try:\n",
    "  categoria.criar()\n",
    "except pyodbc.DatabaseError as ex:    \n",
    "  print(ex)\n",
    "except:\n",
    "  print(\"An error ocurred\")\n",
    "  \n",
    "# categoria.criar()"
   ]
  },
  {
   "cell_type": "code",
   "execution_count": 220,
   "metadata": {},
   "outputs": [
    {
     "output_type": "stream",
     "name": "stdout",
     "text": [
      "    id         nome            descricao\n0    1    Telefonia  Aparelho telefônico\n1    2  Informática  Computador portátil\n2    3        Roupa            Vestuário\n3    4      Calçado            Vestuário\n4    5    Telefonia  Aparelho telefônico\n5    6  Informática  Computador portátil\n6    7        Roupa            Vestuário\n7    8      Calçado            Vestuário\n8    9    Telefonia  Aparelho telefônico\n9   10  Informática  Computador portátil\n10  11        Roupa            Vestuário\n11  12      Calçado            Vestuário\n<class 'pandas.core.frame.DataFrame'>\n"
     ]
    }
   ],
   "source": [
    "class Buscar:\n",
    "    def __init__ (self, conexao):\n",
    "        self.conexao = conexao\n",
    "    def categorias (self):\n",
    "        sql = '''select * from Categoria '''\n",
    "\n",
    "        data_frame = pd.read_sql_query (sql, self.conexao) \n",
    "        print (data_frame)\n",
    "        print (type (data_frame))\n",
    "    def produtos (self):\n",
    "        sql = '''select * from Produto '''\n",
    "\n",
    "        data_frame = pd.read_sql_query (sql, self.conexao) \n",
    "        print (data_frame)\n",
    "        print (type (data_frame))\n",
    "    def vendedor (self):\n",
    "        sql = '''select * from Vendedor '''\n",
    "\n",
    "        data_frame = pd.read_sql_query (sql, self.conexao) \n",
    "        print (data_frame)\n",
    "        print (type (data_frame))\n",
    "    \n",
    "    def vendedorProdutos (self):\n",
    "        sql = '''select * from VendedorProduto '''\n",
    "\n",
    "        data_frame = pd.read_sql_query (sql, self.conexao) \n",
    "        print (data_frame)\n",
    "        print (type (data_frame))\n",
    "\n",
    "\n",
    "\n",
    "# Instanciar objeto da classe Vendedor:\n",
    "categoria = Buscar (conexao)\n",
    "\n",
    "# Pesquisa:\n",
    "categoria.categorias()"
   ]
  },
  {
   "cell_type": "code",
   "execution_count": 221,
   "metadata": {},
   "outputs": [
    {
     "output_type": "stream",
     "name": "stdout",
     "text": [
      "    id      nome   descricao    marca  id_categoria\n0    1   Celular   Celular 1    Apple             1\n1    2   Celular   Celular 2  Samsung             1\n2    3   Celular   Celular 3   Xiaomi             1\n3    4  Notebook  Notebook 1    Apple             2\n4    5  Notebook  Notebook 2  Samsung             2\n5    6  Notebook  Notebook 3   Xiaomi             2\n6    7    Camisa    Camisa 1     Nike             3\n7    8     Calça     Calça 1     Nike             3\n8    9     Tênis     Tênis 1     Nike             4\n9   10    Camisa    Camisa 2   Adidas             3\n10  11     Calça     Calça 2   Adidas             3\n11  12     Tênis     Tênis 2   Adidas             4\n12  13    Camisa    Camisa 3     Zara             3\n13  14     Calça     Calça 3     Zara             3\n14  15     Tênis     Tênis 3     Zara             4\n15  16   Celular   Celular 1    Apple             1\n16  17   Celular   Celular 2  Samsung             1\n17  18   Celular   Celular 3   Xiaomi             1\n18  19  Notebook  Notebook 1    Apple             2\n19  20  Notebook  Notebook 2  Samsung             2\n20  21  Notebook  Notebook 3   Xiaomi             2\n21  22    Camisa    Camisa 1     Nike             3\n22  23     Calça     Calça 1     Nike             3\n23  24     Tênis     Tênis 1     Nike             4\n24  25    Camisa    Camisa 2   Adidas             3\n25  26     Calça     Calça 2   Adidas             3\n26  27     Tênis     Tênis 2   Adidas             4\n27  28    Camisa    Camisa 3     Zara             3\n28  29     Calça     Calça 3     Zara             3\n29  30     Tênis     Tênis 3     Zara             4\n<class 'pandas.core.frame.DataFrame'>\n"
     ]
    }
   ],
   "source": [
    "\n",
    "categoria.produtos()"
   ]
  },
  {
   "cell_type": "code",
   "execution_count": 222,
   "metadata": {},
   "outputs": [
    {
     "output_type": "stream",
     "name": "stdout",
     "text": [
      "              cpf    nome                 email                    telefone  \\\n0  111.111.111-11     Ana        ana@ana.com.br  (11) 1 1111-\\n        1111   \n1  222.222.222-22   Bruno    bruno@bruno.com.br  (22) 2 2222-\\n        2222   \n2  333.333.333-33   Carla    carla@carla.com.br  (33) 3 3333-\\n        3333   \n3  444.444.444-44   Diego    diego@diego.com.br  (44) 4 4444-\\n        4444   \n4  555.555.555-55    Elis      elis@elis.com.br  (55) 5 5555-\\n        5555   \n5  666.666.666-66   Fábio    fabio@fabio.com.br  (66) 6 6666-\\n        6666   \n6  777.777.777-77  Gisele  gisele@gisele.com.br  (77) 7 7777-\\n        7777   \n7  888.888.888-88  Heitor  heitor@heitor.com.br  (88) 8 8888-\\n        8888   \n8  999.999.999-99    Iris      iris@iris.com.br  (99) 9 9999-\\n        9999   \n\n                                endereco  \n0  Rua n.1, n. 1, Bairro 1, Cidade 1, MG  \n1  Rua n.2, n. 2, Bairro 2, Cidade 2, MG  \n2  Rua n.3, n. 3, Bairro 3, Cidade 3, MG  \n3  Rua n.4, n. 4, Bairro 4, Cidade 4, MG  \n4  Rua n.5, n. 5, Bairro 5, Cidade 5, MG  \n5  Rua n.6, n. 6, Bairro 6, Cidade 6, MG  \n6  Rua n.7, n. 7, Bairro 7, Cidade 7, MG  \n7  Rua n.8, n. 8, Bairro 8, Cidade 8, MG  \n8  Rua n.9, n. 9, Bairro 9, Cidade 9, MG  \n<class 'pandas.core.frame.DataFrame'>\n"
     ]
    }
   ],
   "source": [
    "\n",
    "categoria.vendedor()"
   ]
  },
  {
   "cell_type": "code",
   "execution_count": 223,
   "metadata": {},
   "outputs": [
    {
     "output_type": "stream",
     "name": "stdout",
     "text": [
      "    id    cpf_vendedor  id_produto  quantidade   preco\n0    1  111.111.111-11           1           2  4000.0\n1    2  111.111.111-11           2           3  3000.0\n2    3  111.111.111-11           3           4  1000.0\n3    4  111.111.111-11          12           2   110.0\n4    5  222.222.222-22           4           3  5000.0\n5    6  222.222.222-22           5           5  4000.0\n6    7  222.222.222-22           6           6  3000.0\n7    8  333.333.333-33           7          10    50.0\n8    9  333.333.333-33          14           2    88.0\n9   10  555.555.555-55           7          10    45.0\n10  11  666.666.666-66           9           3   120.0\n11  12  666.666.666-66          14           8    78.0\n12  13  888.888.888-88          10           0    40.0\n13  14  999.999.999-99          11           0    87.0\n14  15  999.999.999-99           1           1  5000.0\n15  16  111.111.111-11           1           2  4000.0\n16  17  111.111.111-11           2           3  3000.0\n17  18  111.111.111-11           3           4  1000.0\n18  19  111.111.111-11          12           2   110.0\n19  20  222.222.222-22           4           3  5000.0\n20  21  222.222.222-22           5           5  4000.0\n21  22  222.222.222-22           6           6  3000.0\n22  23  333.333.333-33           7          10    50.0\n23  24  333.333.333-33          14           2    88.0\n24  25  555.555.555-55           7          10    45.0\n25  26  666.666.666-66           9           3   120.0\n26  27  666.666.666-66          14           8    78.0\n27  28  888.888.888-88          10           0    40.0\n28  29  999.999.999-99          11           0    87.0\n29  30  999.999.999-99           1           1  5000.0\n<class 'pandas.core.frame.DataFrame'>\n"
     ]
    }
   ],
   "source": [
    "categoria.vendedorProdutos()"
   ]
  }
 ]
}