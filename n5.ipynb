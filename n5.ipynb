{
 "metadata": {
  "language_info": {
   "codemirror_mode": {
    "name": "ipython",
    "version": 3
   },
   "file_extension": ".py",
   "mimetype": "text/x-python",
   "name": "python",
   "nbconvert_exporter": "python",
   "pygments_lexer": "ipython3",
   "version": "3.7.0-final"
  },
  "orig_nbformat": 2,
  "kernelspec": {
   "name": "python3",
   "display_name": "Python 3"
  }
 },
 "nbformat": 4,
 "nbformat_minor": 2,
 "cells": [
  {
   "cell_type": "code",
   "execution_count": 24,
   "metadata": {},
   "outputs": [],
   "source": [
    "import pyodbc\n"
   ]
  },
  {
   "cell_type": "code",
   "execution_count": null,
   "metadata": {},
   "outputs": [],
   "source": [
    "class ConexaoBD ():\n",
    " def conectar (self):\n",
    "    return pyodbc.connect (driver = '{SQL Server}', server = '.\\SQLEXPRESS', database = 'empresa', trusted_connection = 'yes')"
   ]
  },
  {
   "cell_type": "code",
   "execution_count": 7,
   "metadata": {},
   "outputs": [],
   "source": [
    "\n",
    "bd = ConexaoBD ()\n",
    "conexao = bd.conectar ()"
   ]
  },
  {
   "cell_type": "code",
   "execution_count": 9,
   "metadata": {},
   "outputs": [],
   "source": [
    "# Classe Categoria:\n",
    "class Categoria:\n",
    " def __init__ (self, conexao):\n",
    "    self.conexao = conexao\n",
    " def inserir (self):\n",
    "    dml = \"insert into Categoria (nome, descricao) values ('celulares', 'telefones celulares');\"\n",
    "    with self.conexao:\n",
    "        cursor = self.conexao.cursor ()\n",
    "        cursor.execute (dml)\n",
    "        sql = \"select * from Categoria;\"\n",
    "        cursor.execute (sql)\n",
    "        linha = cursor.fetchone ()\n",
    "    return linha"
   ]
  },
  {
   "cell_type": "code",
   "execution_count": 10,
   "metadata": {},
   "outputs": [
    {
     "output_type": "stream",
     "name": "stdout",
     "text": [
      "(1, 'Telefonia', 'Aparelho telefônico')\n"
     ]
    }
   ],
   "source": [
    "# Instaciar objeto da classe Categoria:\n",
    "categoria = Categoria (conexao)\n",
    "# Inserir um registro no banco de dados:\n",
    "linha = categoria.inserir ()\n",
    "# Apresentar na tela o registro inserido no banco de dados:\n",
    "print (linha)"
   ]
  },
  {
   "cell_type": "code",
   "execution_count": 11,
   "metadata": {},
   "outputs": [],
   "source": [
    "# Classe Categoria:\n",
    "class Categoria:\n",
    " def __init__ (self, conexao):\n",
    "    self.conexao = conexao\n",
    " def inserir (self):\n",
    "    dml = \"insert into Categoria (nome, descricao) values (?, ?);\"\n",
    "    nome = input (\"Informe o nome da categoria: \")\n",
    "    descricao = input (\"Informe a descrição da categoria: \")\n",
    "    parametros = tuple ((nome, descricao))\n",
    "    with self.conexao:\n",
    "        cursor = self.conexao.cursor ()\n",
    "        cursor.execute (dml, parametros)\n",
    "        # self.conexao.commit ()\n",
    "        sql = \"select * from Categoria;\"\n",
    "        cursor.execute (sql)\n",
    "        linha = cursor.fetchall ()\n",
    "    return linha"
   ]
  },
  {
   "cell_type": "code",
   "execution_count": 14,
   "metadata": {},
   "outputs": [],
   "source": [
    "class Categoria:\n",
    " def __init__ (self, conexao):\n",
    "    self.conexao = conexao\n",
    " def inserir (self):\n",
    "    dml = \"insert into Categoria (nome, descricao) values (?, ?);\"\n",
    "    nome = input (\"Informe o nome da categoria: \")\n",
    "    descricao = input (\"Informe a descrição da categoria: \")\n",
    "\n",
    "    with self.conexao:\n",
    "        cursor = self.conexao.cursor ()\n",
    "        cursor.execute (dml, nome, descricao)\n",
    "        # self.conexao.commit ()\n",
    "        sql = \"select * from Categoria;\"\n",
    "        cursor.execute (sql)\n",
    "        linhas = cursor.fetchall ()\n",
    "    return linhas"
   ]
  },
  {
   "cell_type": "code",
   "execution_count": 22,
   "metadata": {},
   "outputs": [
    {
     "output_type": "stream",
     "name": "stdout",
     "text": [
      "[(1, 'Telefonia', 'Aparelho telefônico'), (2, 'Informática', 'Computador portátil'), (3, 'Roupa', 'Vestuário'), (4, 'Calçado', 'Vestuário'), (5, 'Telefonia', 'Aparelho telefônico'), (6, 'Informática', 'Computador portátil'), (7, 'Roupa', 'Vestuário'), (8, 'Calçado', 'Vestuário'), (9, 'Telefonia', 'Aparelho telefônico'), (10, 'Informática', 'Computador portátil'), (11, 'Roupa', 'Vestuário'), (12, 'Calçado', 'Vestuário'), (13, 'celulares', 'telefones celulares'), (14, '', ''), (15, '', ''), (16, '', ''), (17, '', ''), (18, '', ''), (19, '', ''), (20, '', ''), (21, '', '')]\n"
     ]
    }
   ],
   "source": [
    "\n",
    "categoria = Categoria (conexao)\n",
    "linha = categoria.inserir ()\n",
    "print (linha)"
   ]
  },
  {
   "cell_type": "code",
   "execution_count": 25,
   "metadata": {},
   "outputs": [
    {
     "output_type": "error",
     "ename": "IndentationError",
     "evalue": "expected an indented block (<ipython-input-25-1ae73222dfd7>, line 5)",
     "traceback": [
      "\u001b[1;36m  File \u001b[1;32m\"<ipython-input-25-1ae73222dfd7>\"\u001b[1;36m, line \u001b[1;32m5\u001b[0m\n\u001b[1;33m    dml = \"insert into Categoria (nome, descricao) values (?, ?);\"\u001b[0m\n\u001b[1;37m      ^\u001b[0m\n\u001b[1;31mIndentationError\u001b[0m\u001b[1;31m:\u001b[0m expected an indented block\n"
     ]
    }
   ],
   "source": [
    "class Categoria:\n",
    "    def __init__ (self, conexao):\n",
    "        self.conexao = conexao\n",
    "    def inserir (self):\n",
    "    dml = \"insert into Categoria (nome, descricao) values (?, ?);\"\n",
    "        parametros = [\n",
    "        ('livros', 'livros impressos'),\n",
    "        ('eletroeletrônicos', 'dispositivos eletroeletrônicos'),\n",
    "        ('alimentos', 'alimentos não perecíveis')\n",
    "        ]\n",
    "        with self.conexao:\n",
    "        cursor = self.conexao.cursor ()\n",
    "        cursor.executemany (dml, parametros)\n",
    "        # self.conexao.commit ()\n",
    "        sql = \"select * from Categoria;\"\n",
    "        cursor.execute (sql)\n",
    "        linha = cursor.fetchall ()\n",
    "    return linha\n"
   ]
  },
  {
   "cell_type": "code",
   "execution_count": null,
   "metadata": {},
   "outputs": [],
   "source": [
    "categoria = Categoria (conexao)\n",
    "linha = categoria.inserir ()\n",
    "print (linha)"
   ]
  },
  {
   "cell_type": "code",
   "execution_count": null,
   "metadata": {},
   "outputs": [],
   "source": [
    "class Categoria:\n",
    " def __init__ (self, conexao):\n",
    "    self.conexao = conexao\n",
    " def valores (self):\n",
    "    parametros = []\n",
    " while True:\n",
    "    nome = input (\"Informe o nome da categoria: \") \n",
    "    descricao = input (\"Informe a descrição da categoria: \")\n",
    "    parametros.append ((nome, descricao))\n",
    "    print (parametros)\n",
    "    resp = input (\"Deseja informar outro registro? (s/n)\")\n",
    "    if (resp == \"n\"):\n",
    "        break\n",
    "    return parametros\n",
    "  def inserir (self):\n",
    "    dml = \"insert into Categoria (nome, descricao) values (?, ?);\"\n",
    "    parametros = self.valores ()\n",
    "    with self.conexao:\n",
    "    cursor = self.conexao.cursor ()\n",
    "    cursor.executemany (dml, parametros)\n",
    "    # self.conexao.commit ()\n",
    "    sql = \"select * from Categoria;\"\n",
    "    cursor.execute (sql)\n",
    "    linha = cursor.fetchall ()\n",
    "    return linha    \n"
   ]
  },
  {
   "cell_type": "code",
   "execution_count": null,
   "metadata": {},
   "outputs": [],
   "source": [
    "\n",
    "categoria = Categoria (conexao)\n",
    "linha = categoria.inserir ()\n",
    "print (linha)"
   ]
  },
  {
   "cell_type": "code",
   "execution_count": null,
   "metadata": {},
   "outputs": [],
   "source": [
    "# Classe Categoria:\n",
    "class Categoria:\n",
    " def __init__ (self, conexao):\n",
    "    self.conexao = conexao\n",
    " def inserir (self):\n",
    "    dml = \"insert into Categoria (nome, descricao) values ('cozinha', 'utensílios de cozinha');\"\n",
    "\n",
    " with self.conexao:\n",
    "    cursor = self.conexao.cursor ()\n",
    "    cursor.execute (dml)\n",
    "    # self.conexao.commit ()\n",
    "    sql = \"select cast (scope_identity () as int);\"\n",
    "    cursor.execute (sql)\n",
    "    id = cursor.fetchone ()[0]\n",
    "\n",
    " return id"
   ]
  },
  {
   "cell_type": "code",
   "execution_count": null,
   "metadata": {},
   "outputs": [],
   "source": []
  }
 ]
}